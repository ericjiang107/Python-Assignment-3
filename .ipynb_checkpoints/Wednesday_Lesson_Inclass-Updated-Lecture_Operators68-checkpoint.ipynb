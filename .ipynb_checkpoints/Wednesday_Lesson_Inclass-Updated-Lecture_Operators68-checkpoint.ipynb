{
 "cells": [
  {
   "cell_type": "markdown",
   "metadata": {},
   "source": [
    "# Data Collections 2 (Dictionaries, Sets) and Importing Modules"
   ]
  },
  {
   "cell_type": "markdown",
   "metadata": {},
   "source": [
    "## Tasks Today:\n",
    "\n",
    "1) Dictionary <br>\n",
    " &nbsp;&nbsp;&nbsp;&nbsp; a) Declaring (key, value) <br>\n",
    " &nbsp;&nbsp;&nbsp;&nbsp; b) Accessing Values <br>\n",
    " &nbsp;&nbsp;&nbsp;&nbsp; ------ Exercise #1 - Print the eye color of each person in a double nested dict <br>\n",
    " &nbsp;&nbsp;&nbsp;&nbsp; c) Adding New Pairs <br>\n",
    " &nbsp;&nbsp;&nbsp;&nbsp; d) Modifying Values <br>\n",
    " &nbsp;&nbsp;&nbsp;&nbsp; e) Removing Key, Value Pairs <br>\n",
    " &nbsp;&nbsp;&nbsp;&nbsp; f) Looping a Dictionary <br>\n",
    " &nbsp;&nbsp;&nbsp;&nbsp; g) Looping Only Keys <br>\n",
    " &nbsp;&nbsp;&nbsp;&nbsp; h) Looping Only Values <br>\n",
    " &nbsp;&nbsp;&nbsp;&nbsp; ------ Exercise #2 - Create a Function that Prints All Key Value Pairs within a print .format()  <br>\n",
    " &nbsp;&nbsp;&nbsp;&nbsp; i) sorted() <br>\n",
    " &nbsp;&nbsp;&nbsp;&nbsp; j) Lists with Dictionaries <br>\n",
    " &nbsp;&nbsp;&nbsp;&nbsp; k) Dictionaries with Lists <br>\n",
    " &nbsp;&nbsp;&nbsp;&nbsp; l) Dictionaries with Dictionaries <br>\n",
    " &nbsp;&nbsp;&nbsp;&nbsp; ------ Exercise #3 - Write a Function that asks someone's name and address, and then stores that into a dictionary, which prints all names and addresses after they're done putting information in...  <br>\n",
    "2) Dictionaries vs. Lists (over time)<br>\n",
    "3) Set <br>\n",
    " &nbsp;&nbsp;&nbsp;&nbsp; a) Declaring <br>\n",
    " &nbsp;&nbsp;&nbsp;&nbsp; b) .add() <br>\n",
    " &nbsp;&nbsp;&nbsp;&nbsp; c) .remove() <br>\n",
    " &nbsp;&nbsp;&nbsp;&nbsp; d) .union() <br>\n",
    " &nbsp;&nbsp;&nbsp;&nbsp; e) .intersection() <br>\n",
    " &nbsp;&nbsp;&nbsp;&nbsp; f) .difference() <br>\n",
    " &nbsp;&nbsp;&nbsp;&nbsp; g) Frozen Set <br>\n",
    "4) Modules <br>\n",
    " &nbsp;&nbsp;&nbsp;&nbsp; a) Importing Entire Modules <br>\n",
    " &nbsp;&nbsp;&nbsp;&nbsp; b) Importing Methods Only <br>\n",
    " &nbsp;&nbsp;&nbsp;&nbsp; c) Using the 'as' Keyword <br>\n",
    " &nbsp;&nbsp;&nbsp;&nbsp; d) Creating a Module <br>\n",
    "5) Exercises <br>\n",
    " &nbsp;&nbsp;&nbsp;&nbsp; a) Build a Shopping Cart <br>\n",
    " &nbsp;&nbsp;&nbsp;&nbsp; b) Create Your Own Module <br>"
   ]
  },
  {
   "cell_type": "markdown",
   "metadata": {},
   "source": [
    "## Dictionary <br>\n",
    "<p>A collection of data with 'key:value' pairs. Dictionaries are ordered as of Python 3.6</p>"
   ]
  },
  {
   "cell_type": "markdown",
   "metadata": {},
   "source": [
    "##### Declaring (key, value)"
   ]
  },
  {
   "cell_type": "code",
   "execution_count": 1,
   "metadata": {},
   "outputs": [
    {
     "name": "stdout",
     "output_type": "stream",
     "text": [
      "{}\n",
      "{}\n",
      "{'Dave': '255 Main St', 'Sean': '522 1st st', 0: 'this is the value for the key of 0'}\n"
     ]
    }
   ],
   "source": [
    "# every key must be unique (cannot have the same name repeating)\n",
    "# numbers can be used\n",
    "# strings can be used\n",
    "\n",
    "d_1 = {}\n",
    "\n",
    "# OR\n",
    "\n",
    "d_2 = dict()\n",
    "\n",
    "\n",
    "print(d_1)\n",
    "print(d_2)\n",
    "\n",
    "\n",
    "# OR we can declare with key: value pairs\n",
    "\n",
    "d_3 = {\n",
    "    \"Dave\": \"255 Main St\", \n",
    "       \"Sean\": \"522 1st st\", \n",
    "       0: \"this is the value for the key of 0\"\n",
    "        }\n",
    "\n",
    "print(d_3)"
   ]
  },
  {
   "cell_type": "markdown",
   "metadata": {},
   "source": [
    "##### Accessing Values"
   ]
  },
  {
   "cell_type": "code",
   "execution_count": 2,
   "metadata": {},
   "outputs": [
    {
     "data": {
      "text/plain": [
       "'this is the value for the key of 0'"
      ]
     },
     "execution_count": 2,
     "metadata": {},
     "output_type": "execute_result"
    }
   ],
   "source": [
    "# dict[key]\n",
    "\n",
    "d_3[\"Dave\"]\n",
    "d_3[0] # not indexing"
   ]
  },
  {
   "cell_type": "markdown",
   "metadata": {},
   "source": [
    "## In-Class Exercise #1 - Print a formatted statement from the dictionary below <br>\n",
    "<p>The output should be '2018 Chevrolet Silverado'</p>"
   ]
  },
  {
   "cell_type": "code",
   "execution_count": 3,
   "metadata": {},
   "outputs": [
    {
     "name": "stdout",
     "output_type": "stream",
     "text": [
      "2018\n",
      "Chevrolet\n",
      "Silverado\n",
      "2018 Chevrolet Silverado\n"
     ]
    }
   ],
   "source": [
    "# use the dict below\n",
    "# Print my favorite car is the 2018 Chevrolet Silverado\n",
    "truck = {\n",
    "    'year': 2018,\n",
    "    'make': 'Chevrolet',\n",
    "    'model': 'Silverado'\n",
    "}\n",
    "\n",
    "print(truck[\"year\"])\n",
    "print(truck[\"make\"])\n",
    "print(truck[\"model\"])\n",
    "\n",
    "\n",
    "\n",
    "print(f'{truck[\"year\"]} {truck[\"make\"]} {truck[\"model\"]}')"
   ]
  },
  {
   "cell_type": "markdown",
   "metadata": {},
   "source": [
    "##### Adding New Pairs"
   ]
  },
  {
   "cell_type": "code",
   "execution_count": 4,
   "metadata": {},
   "outputs": [
    {
     "data": {
      "text/plain": [
       "{'Dave': '255 Main St',\n",
       " 'Sean': '522 1st st',\n",
       " 0: 'this is the value for the key of 0',\n",
       " 'bob': '151 Main St'}"
      ]
     },
     "execution_count": 4,
     "metadata": {},
     "output_type": "execute_result"
    }
   ],
   "source": [
    "# dict[newkey] = value \n",
    "\n",
    "\n",
    "d_3[\"bob\"] = \"151 Main St\"\n",
    "d_3"
   ]
  },
  {
   "cell_type": "markdown",
   "metadata": {},
   "source": [
    "##### Modifying Values"
   ]
  },
  {
   "cell_type": "code",
   "execution_count": 5,
   "metadata": {},
   "outputs": [
    {
     "data": {
      "text/plain": [
       "{'Dave': '255 Main St',\n",
       " 'Sean': '522 1st st',\n",
       " 0: 'this is the value for the key of 0',\n",
       " 'bob': '333 E Ontario StChicago, IL'}"
      ]
     },
     "execution_count": 5,
     "metadata": {},
     "output_type": "execute_result"
    }
   ],
   "source": [
    "# dict[existing key] = value\n",
    "# key is usually unchanged and is better off just removing and adding rather than changing\n",
    "\n",
    "d_3['bob'] = \"222 W Ontario St\"\n",
    "\n",
    "d_3\n",
    "\n",
    "# Changing dictionary value \n",
    "placeholder = '333 E Ontario St'\n",
    "d_3['bob'] = placeholder + 'Chicago, IL'\n",
    "d_3"
   ]
  },
  {
   "cell_type": "markdown",
   "metadata": {},
   "source": [
    "##### Removing Key, Value Pairs"
   ]
  },
  {
   "cell_type": "code",
   "execution_count": 6,
   "metadata": {},
   "outputs": [
    {
     "data": {
      "text/plain": [
       "{'Dave': '255 Main St',\n",
       " 'Sean': '522 1st st',\n",
       " 0: 'this is the value for the key of 0'}"
      ]
     },
     "execution_count": 6,
     "metadata": {},
     "output_type": "execute_result"
    }
   ],
   "source": [
    "# del dict[key]\n",
    "\n",
    "del d_3['bob']\n",
    "d_3"
   ]
  },
  {
   "cell_type": "markdown",
   "metadata": {},
   "source": [
    "##### Looping a Dictionary"
   ]
  },
  {
   "cell_type": "code",
   "execution_count": 7,
   "metadata": {},
   "outputs": [
    {
     "name": "stdout",
     "output_type": "stream",
     "text": [
      "Dave 255 Main St\n",
      "Name: Dave \n",
      "Address: 255 Main St\n",
      "Sean 522 1st st\n",
      "Name: Sean \n",
      "Address: 522 1st st\n",
      "0 this is the value for the key of 0\n",
      "Name: 0 \n",
      "Address: this is the value for the key of 0\n",
      "Dave\n",
      "255 Main St\n",
      "Sean\n",
      "522 1st st\n",
      "0\n",
      "this is the value for the key of 0\n"
     ]
    }
   ],
   "source": [
    "# .items()\n",
    "# a, b, c = 1, 2, 3 \n",
    "# print(a)\n",
    "# print(b)\n",
    "# print(c)\n",
    "\n",
    "# Correct/common way to access key value pairs in dictionary \n",
    "\n",
    "d_3.items() # Creates a set of tuples of the keys and values\n",
    "\n",
    "# To loop through:\n",
    "for key, value in d_3.items():\n",
    "    print(key, value)\n",
    "    print(f'Name: {key} \\nAddress: {value}')\n",
    "    \n",
    "    \n",
    "# Another way:\n",
    "for item in d_3.items():\n",
    "    print(item[0]) # Access index 0 of all the tuples (key)\n",
    "    print(item[1]) # Access index 1 of all the tuples (value)"
   ]
  },
  {
   "cell_type": "markdown",
   "metadata": {},
   "source": [
    "##### Looping Only Keys"
   ]
  },
  {
   "cell_type": "code",
   "execution_count": 8,
   "metadata": {},
   "outputs": [
    {
     "name": "stdout",
     "output_type": "stream",
     "text": [
      "Dave\n",
      "Sean\n",
      "0\n"
     ]
    }
   ],
   "source": [
    "# .keys()\n",
    "\n",
    "d_3.keys() # Grabs the key of all \n",
    "\n",
    "\n",
    "# To loop/iterate through this:\n",
    "for i in d_3.keys():\n",
    "    print(i)"
   ]
  },
  {
   "cell_type": "markdown",
   "metadata": {},
   "source": [
    "##### Looping Only Values"
   ]
  },
  {
   "cell_type": "code",
   "execution_count": 9,
   "metadata": {},
   "outputs": [
    {
     "name": "stdout",
     "output_type": "stream",
     "text": [
      "255 Main St\n",
      "522 1st st\n",
      "this is the value for the key of 0\n"
     ]
    }
   ],
   "source": [
    "# .values()\n",
    "\n",
    "\n",
    "d_3.values() # Grabs the value of all \n",
    "\n",
    "\n",
    "# To loop/iterate through this:\n",
    "for i in d_3.values():\n",
    "    print(i)"
   ]
  },
  {
   "cell_type": "markdown",
   "metadata": {},
   "source": [
    "## In-Class Exercise #2 - Create a Function that Prints All Key Value Pairs within a print .format() <br>\n",
    "<p><b>Output should be:</b><br>\n",
    "Max has blue eyes<br>\n",
    "Lilly has brown eyes<br>\n",
    "Barney has blue eyes<br>\n",
    "etc.\n",
    "</p>"
   ]
  },
  {
   "cell_type": "code",
   "execution_count": 10,
   "metadata": {},
   "outputs": [
    {
     "name": "stdout",
     "output_type": "stream",
     "text": [
      "Max has blue eyes\n",
      "Lilly has brown eyes\n",
      "Barney has blue eyes\n",
      "Larney has brown eyes\n",
      "Ted has purple eyes\n"
     ]
    }
   ],
   "source": [
    "# use the dict below\n",
    "\n",
    "people = {\n",
    "    'Max': 'blue',\n",
    "    'Lilly': 'brown',\n",
    "    'Barney': 'blue',\n",
    "    'Larney': 'brown',\n",
    "    'Ted': 'purple'\n",
    "}\n",
    "\n",
    "\n",
    "\n",
    "def line(people):\n",
    "    for key, value in people.items():\n",
    "        print(f'{key} has {value} eyes')\n",
    "        \n",
    "line(people)  "
   ]
  },
  {
   "cell_type": "markdown",
   "metadata": {},
   "source": [
    "##### sorted()"
   ]
  },
  {
   "cell_type": "code",
   "execution_count": 11,
   "metadata": {},
   "outputs": [
    {
     "name": "stdout",
     "output_type": "stream",
     "text": [
      "[('Barney', 'blue'), ('Larney', 'brown'), ('Lilly', 'brown'), ('Max', 'blue'), ('Ted', 'purple')]\n",
      "['Barney', 'Larney', 'Lilly', 'Max', 'Ted']\n",
      "['blue', 'blue', 'brown', 'brown', 'purple']\n"
     ]
    }
   ],
   "source": [
    "# sorts variables in order\n",
    "# sorted(dict.values()) or dict.keys() or dict.items()\n",
    "\n",
    "print(sorted(people.items()))\n",
    "print(sorted(people.keys()))\n",
    "print(sorted(people.values()))"
   ]
  },
  {
   "cell_type": "markdown",
   "metadata": {},
   "source": [
    "##### List with Dictionaries"
   ]
  },
  {
   "cell_type": "code",
   "execution_count": 12,
   "metadata": {},
   "outputs": [
    {
     "name": "stdout",
     "output_type": "stream",
     "text": [
      "{'random_guy': 'Robert', 'random_girl': 'Barb'}\n",
      "Barb\n",
      "Robert\n",
      "dict_values(['Robert', 'Barb'])\n",
      "Robert\n",
      "Barb\n",
      "Dave\n",
      "Randy\n",
      "Greg\n",
      "Barb\n",
      "Robert\n"
     ]
    }
   ],
   "source": [
    "names = [\"Dave\", \"Randy\", \"Greg\", {\"random_guy\":\"Robert\", \"random_girl\":\"Barb\"}]\n",
    "\n",
    "names[0].lower()\n",
    "names[0].upper()\n",
    "\n",
    "print(names[3])\n",
    "print(names[3][\"random_girl\"]) # look for a specific value from within the key\n",
    "print(names[3][\"random_guy\"])\n",
    "\n",
    "\n",
    "# for both at the same line:\n",
    "print(names[3].values())\n",
    "\n",
    "\n",
    "# OR\n",
    "for value in names[3].values():\n",
    "    print(value)\n",
    "    \n",
    "    \n",
    "# For all values within names\n",
    "for name in names:\n",
    "    if type(name) == str:\n",
    "        print(name)\n",
    "    else:\n",
    "        print(name[\"random_girl\"])\n",
    "        print(name[\"random_guy\"])"
   ]
  },
  {
   "cell_type": "markdown",
   "metadata": {},
   "source": [
    "##### Dictionaries with Lists"
   ]
  },
  {
   "cell_type": "code",
   "execution_count": 13,
   "metadata": {},
   "outputs": [
    {
     "name": "stdout",
     "output_type": "stream",
     "text": [
      "7\n",
      "smith\n"
     ]
    }
   ],
   "source": [
    "# be careful when using numbers as keys in dictionaries, don't confuse them with indexes\n",
    "\n",
    "random_data = {\n",
    "    \"list1\": [54, 7, 11],\n",
    "    \"2\": [\"smith\"]\n",
    "}\n",
    "\n",
    "\n",
    "# To get a specific value within a dictionary \n",
    "print(random_data['list1'][1])\n",
    "\n",
    "# OR\n",
    "print(random_data['2'][0])"
   ]
  },
  {
   "cell_type": "markdown",
   "metadata": {},
   "source": [
    "##### Dictionaries with Dictionaries"
   ]
  },
  {
   "cell_type": "code",
   "execution_count": 14,
   "metadata": {},
   "outputs": [
    {
     "name": "stdout",
     "output_type": "stream",
     "text": [
      "5.99\n",
      "The CHO ice cream cost $2.99\n",
      "The VA ice cream cost $3.99\n",
      "The Oreo ice cream cost $5.99\n"
     ]
    }
   ],
   "source": [
    "# to get values, must traverse through keys\n",
    "\n",
    "food_dict = {\n",
    "    \"ice_cream\":{\n",
    "        \"CHO\": 2.99,\n",
    "        \"VA\": 3.99,\n",
    "        \"Oreo\": 5.99\n",
    "    },\n",
    "    \"pizza\": {\n",
    "        \"cheese\": 15,\n",
    "        \"pep\": 20,\n",
    "    }\n",
    "}\n",
    "\n",
    "\n",
    "print(food_dict[\"ice_cream\"][\"Oreo\"])\n",
    "\n",
    "\n",
    "# Getting key, value pairs from nested dictionaries\n",
    "for key, value in food_dict[\"ice_cream\"].items():\n",
    "    print(f'The {key} ice cream cost ${value}')"
   ]
  },
  {
   "cell_type": "markdown",
   "metadata": {},
   "source": [
    "## Dictionaries vs. Lists (over time) Example of RUNTIME\n",
    "### When inputting values in a Dictionary vs List"
   ]
  },
  {
   "cell_type": "code",
   "execution_count": 15,
   "metadata": {},
   "outputs": [],
   "source": [
    "import time\n",
    "\n",
    "\n",
    "# generate fake dictionary\n",
    "d = {}\n",
    "\n",
    "for i in range(10000000):\n",
    "    d[i] = 'value'\n",
    "    \n",
    "\n",
    "# generate fake list\n",
    "big_list = [x for x in range(10000000)]"
   ]
  },
  {
   "cell_type": "code",
   "execution_count": 16,
   "metadata": {},
   "outputs": [
    {
     "name": "stdout",
     "output_type": "stream",
     "text": [
      "value\n",
      "Elapsed time for dictionary: 0.0\n",
      "9999999\n",
      "Elapsed time for list: 0.645409107208252\n"
     ]
    }
   ],
   "source": [
    "# tracking time for dictionary\n",
    "start_time = time.time()\n",
    "\n",
    "print(d[9999999])\n",
    "\n",
    "end_time = time.time() - start_time\n",
    "\n",
    "print('Elapsed time for dictionary: {}'.format(end_time))\n",
    "\n",
    "\n",
    "# tracking time for list\n",
    "start_time = time.time()\n",
    "\n",
    "for i in range(len(big_list)):\n",
    "    if i == 9999999:\n",
    "        print(i)\n",
    "\n",
    "end_time = time.time() - start_time\n",
    "\n",
    "print('Elapsed time for list: {}'.format(end_time))"
   ]
  },
  {
   "cell_type": "markdown",
   "metadata": {},
   "source": [
    "## Exercise #3 - Write a Function that asks someone's name and address, and then stores that into a dictionary, and continues to do so until they choose to 'quit'. Once they quit, the program should print all names and addresses. <br>\n",
    "<p>\n",
    "<b>Proper steps:</b><br>\n",
    "step 1: write a function that takes in information and stores it in a dictionary<br>\n",
    "step 2: define an empty dictionary to work with<br>\n",
    "step 3: create our loop, which asks the user for information until they quit<br>\n",
    "step 4: ask for the information, and store it into variables<br>\n",
    "step 5: check if the user types quit<br>\n",
    "step 5a: print out all information<br>\n",
    "step 5b: break out of the loop<br>\n",
    "step 6: if they didn't quit, add the information to the dictionary<br>\n",
    "step 7: invoke the function by calling it\n",
    "</p>"
   ]
  },
  {
   "cell_type": "code",
   "execution_count": 17,
   "metadata": {},
   "outputs": [
    {
     "name": "stdout",
     "output_type": "stream",
     "text": [
      "Enter a name to store in the address book (type 'quit' to stop): quit\n",
      "Enter the address to store in the address book (type 'quit' to stop): quit\n"
     ]
    }
   ],
   "source": [
    "from IPython.display import clear_output\n",
    "\n",
    "        \n",
    "        \n",
    "# Step 1\n",
    "def storeInfo():\n",
    "# Step 2\n",
    "    d = {} # {} means empty dictionary\n",
    "# Step 3\n",
    "    while True:\n",
    "# Step 4\n",
    "        name = input(\"Enter a name to store in the address book (type 'quit' to stop): \")\n",
    "        address = input(\"Enter the address to store in the address book (type 'quit' to stop): \")\n",
    "# Step 5\n",
    "        if name.lower() == 'quit' or address.lower() == 'quit':\n",
    "# Step 5a\n",
    "            for key, value in d.items():\n",
    "                print(f'The address for {key} is {value}')\n",
    "# Step 5b\n",
    "            break\n",
    "# Steps 4 and 6\n",
    "        d[name] = address \n",
    "    \n",
    "storeInfo()\n"
   ]
  },
  {
   "cell_type": "markdown",
   "metadata": {},
   "source": [
    "## Set <br>\n",
    "<p>A Set is an unordered collection data type that is iterable (loop), mutable, and has no duplicate elements.<br>Major advantage is that it is highly optimized in checking if something is in the set, as opposed to checking if something is in a list.</p>"
   ]
  },
  {
   "cell_type": "markdown",
   "metadata": {},
   "source": [
    "##### Declaring"
   ]
  },
  {
   "cell_type": "code",
   "execution_count": 18,
   "metadata": {},
   "outputs": [],
   "source": [
    "# set() or {}\n",
    "# no order {3, 2, 1} outputs as {1, 2, 3}\n",
    "\n",
    "# places values based on memory and sorts them from easiest to store to hardest\n",
    "set_1 = {3, 2, 1}\n",
    "set_2 = set()"
   ]
  },
  {
   "cell_type": "markdown",
   "metadata": {},
   "source": [
    "##### .add()"
   ]
  },
  {
   "cell_type": "code",
   "execution_count": 19,
   "metadata": {},
   "outputs": [
    {
     "data": {
      "text/plain": [
       "{1, 2, 2.5, 3, 12}"
      ]
     },
     "execution_count": 19,
     "metadata": {},
     "output_type": "execute_result"
    }
   ],
   "source": [
    "# set.add()\n",
    "\n",
    "set_1.add(2.5)\n",
    "set_1.add(12)\n",
    "set_1"
   ]
  },
  {
   "cell_type": "markdown",
   "metadata": {},
   "source": [
    "##### .remove()"
   ]
  },
  {
   "cell_type": "code",
   "execution_count": 20,
   "metadata": {},
   "outputs": [
    {
     "data": {
      "text/plain": [
       "{1, 2, 2.5, 3}"
      ]
     },
     "execution_count": 20,
     "metadata": {},
     "output_type": "execute_result"
    }
   ],
   "source": [
    "# removes by value\n",
    "# set.remove()\n",
    "\n",
    "\n",
    "set_1.remove(12)\n",
    "set_1"
   ]
  },
  {
   "cell_type": "markdown",
   "metadata": {},
   "source": [
    "##### .union() "
   ]
  },
  {
   "cell_type": "code",
   "execution_count": 21,
   "metadata": {},
   "outputs": [
    {
     "name": "stdout",
     "output_type": "stream",
     "text": [
      "{1, 2, 3, 4, 5, 6, 9, 10, 11, 12}\n",
      "{1, 2, 3, 4, 5, 6}\n",
      "{1, 2, 3, 4, 5, 6, 9, 10, 11, 12}\n"
     ]
    }
   ],
   "source": [
    "# Returns a union of two sets, can also use '|' or set.union(set)\n",
    "# joins all numbers, gets rid of duplicates\n",
    "\n",
    "# looks at the share points (in this case, 3 and 4 and merge the two while deleting the duplicates) --> a concatenation\n",
    "s_1 = {1, 2, 3, 4}\n",
    "s_2 = {3, 4, 5, 6}\n",
    "s_3 = {9, 10, 11, 12, 3}\n",
    "new_s = s_1.union(s_2)\n",
    "new_s\n",
    "\n",
    "# Can also be done with multiple sets (either comment this one out to see results above or vice versa)\n",
    "s4 = s_1.union(s_2, s_3)\n",
    "\n",
    "print(s4)\n",
    "\n",
    "\n",
    "# OR\n",
    "s5 = s_1 | s_2\n",
    "print(s5)\n",
    "\n",
    "\n",
    "# OR\n",
    "s6 = s_1 | s_2 | s_3\n",
    "print(s6)"
   ]
  },
  {
   "cell_type": "markdown",
   "metadata": {},
   "source": [
    "##### .intersection()"
   ]
  },
  {
   "cell_type": "code",
   "execution_count": 22,
   "metadata": {},
   "outputs": [
    {
     "name": "stdout",
     "output_type": "stream",
     "text": [
      "{3, 4}\n",
      "{3, 4}\n"
     ]
    }
   ],
   "source": [
    "# Returns an intersection of two sets, can also use '&'\n",
    "# only takes similar elements from both sets\n",
    "\n",
    "# for s_1 and s_2, it should give {3,4} back\n",
    "s_7 = s_1 & s_2\n",
    "print(s_7)\n",
    "\n",
    "s_8 = s_1.intersection(s_2)\n",
    "print(s_8)"
   ]
  },
  {
   "cell_type": "markdown",
   "metadata": {},
   "source": [
    "##### .difference()"
   ]
  },
  {
   "cell_type": "code",
   "execution_count": 23,
   "metadata": {},
   "outputs": [
    {
     "name": "stdout",
     "output_type": "stream",
     "text": [
      "{1, 2}\n",
      "{5, 6}\n"
     ]
    }
   ],
   "source": [
    "# Returns a set containing all the elements of invoking set that are not in the second set, can also use '-'\n",
    "# only takes values from the first set that are not in the second set\n",
    "# order matters\n",
    "\n",
    "s_1 = {1, 2, 3, 4}\n",
    "s_2 = {3, 4, 5, 6}\n",
    "\n",
    "s_3 = s_1.difference(s_2) # gives the result of everything that is not the same in the involking set and not the set in ()\n",
    "print(s_3)\n",
    "\n",
    "\n",
    "s_4 = s_2.difference(s_1) \n",
    "print(s_4)"
   ]
  },
  {
   "cell_type": "markdown",
   "metadata": {},
   "source": [
    "##### .clear()"
   ]
  },
  {
   "cell_type": "code",
   "execution_count": 24,
   "metadata": {},
   "outputs": [
    {
     "name": "stdout",
     "output_type": "stream",
     "text": [
      "{1, 2, 3, 4, 5, 6, 9, 10, 11, 12}\n",
      "set()\n"
     ]
    }
   ],
   "source": [
    "# Empties the whole set\n",
    "# set.clear()\n",
    "\n",
    "print(s4)\n",
    "s4.clear()\n",
    "print(s4)"
   ]
  },
  {
   "cell_type": "markdown",
   "metadata": {},
   "source": [
    "##### Frozenset <br>\n",
    "<p>Frozen sets are immutable objects that only support methods and operators that produce a result without affecting the frozen set or sets to which they are applied.</p><br><b>Unique & Immutable</b>"
   ]
  },
  {
   "cell_type": "code",
   "execution_count": 25,
   "metadata": {},
   "outputs": [
    {
     "name": "stdout",
     "output_type": "stream",
     "text": [
      "frozenset({3, 4, 5, 6})\n"
     ]
    },
    {
     "ename": "AttributeError",
     "evalue": "'frozenset' object has no attribute 'add'",
     "output_type": "error",
     "traceback": [
      "\u001b[1;31m---------------------------------------------------------------------------\u001b[0m",
      "\u001b[1;31mAttributeError\u001b[0m                            Traceback (most recent call last)",
      "\u001b[1;32m<ipython-input-25-c20bf28d64fa>\u001b[0m in \u001b[0;36m<module>\u001b[1;34m\u001b[0m\n\u001b[0;32m      6\u001b[0m \u001b[1;33m\u001b[0m\u001b[0m\n\u001b[0;32m      7\u001b[0m \u001b[1;31m# This will cause an error because frozen set cannot be altered\u001b[0m\u001b[1;33m\u001b[0m\u001b[1;33m\u001b[0m\u001b[1;33m\u001b[0m\u001b[0m\n\u001b[1;32m----> 8\u001b[1;33m \u001b[0mmy_frozenset\u001b[0m\u001b[1;33m.\u001b[0m\u001b[0madd\u001b[0m\u001b[1;33m(\u001b[0m\u001b[1;36m50\u001b[0m\u001b[1;33m)\u001b[0m\u001b[1;33m\u001b[0m\u001b[1;33m\u001b[0m\u001b[0m\n\u001b[0m",
      "\u001b[1;31mAttributeError\u001b[0m: 'frozenset' object has no attribute 'add'"
     ]
    }
   ],
   "source": [
    "# frozenset([]) --> means the set cannot be affected\n",
    "\n",
    "my_frozenset = frozenset(s_2)\n",
    "print(my_frozenset)\n",
    "\n",
    "\n",
    "# This will cause an error because frozen set cannot be altered\n",
    "my_frozenset.add(50)"
   ]
  },
  {
   "cell_type": "markdown",
   "metadata": {},
   "source": [
    "## Modules"
   ]
  },
  {
   "cell_type": "markdown",
   "metadata": {},
   "source": [
    "##### Importing Entire Modules"
   ]
  },
  {
   "cell_type": "code",
   "execution_count": null,
   "metadata": {},
   "outputs": [],
   "source": [
    "# import or from 'xxx' import *\n",
    "import math\n",
    "\n",
    "print(math.pi)\n",
    "\n",
    "print(math.floor(math.pi))\n",
    "\n",
    "print(math.ceil(math.pi))"
   ]
  },
  {
   "cell_type": "markdown",
   "metadata": {},
   "source": [
    "##### Importing Methods Only"
   ]
  },
  {
   "cell_type": "code",
   "execution_count": null,
   "metadata": {},
   "outputs": [],
   "source": [
    "# from 'xxx' import 'xxx'\n",
    "# from math import floor\n",
    "from math import pi, floor\n",
    "\n",
    "print(pi)\n",
    "\n",
    "print(floor(pi))\n",
    "\n",
    "\n"
   ]
  },
  {
   "cell_type": "markdown",
   "metadata": {},
   "source": [
    "##### Using the 'as' Keyword"
   ]
  },
  {
   "cell_type": "code",
   "execution_count": null,
   "metadata": {},
   "outputs": [],
   "source": [
    "# from 'xxx' import 'xxx' as 'xxx' or import 'xxx' as 'xxx'\n",
    "from math import floor as f, pi as p\n",
    "\n",
    "f(50.5)\n",
    "\n",
    "f(p)"
   ]
  },
  {
   "cell_type": "markdown",
   "metadata": {},
   "source": [
    "##### Creating a Module"
   ]
  },
  {
   "cell_type": "code",
   "execution_count": null,
   "metadata": {},
   "outputs": [],
   "source": [
    "# using module.py download file\n",
    "import module\n",
    "\n",
    "(module.printName(\"Eric\"))"
   ]
  },
  {
   "cell_type": "markdown",
   "metadata": {},
   "source": [
    "# Exercises"
   ]
  },
  {
   "cell_type": "markdown",
   "metadata": {},
   "source": [
    "### 1) Build a Shopping Cart <br>\n",
    "<p><b>You can use either lists or dictionaries. The program should have the following capabilities:</b><br><br>\n",
    "1) Takes in input <br>\n",
    "2) Stores user input into a dictionary or list <br>\n",
    "3) The User can add or delete items <br>\n",
    "4) The User can see current shopping list <br>\n",
    "5) The program Loops until user 'quits' <br>\n",
    "6) Upon quiting the program, print out all items in the user's list <br>\n",
    "</p>"
   ]
  },
  {
   "cell_type": "code",
   "execution_count": 32,
   "metadata": {
    "scrolled": true
   },
   "outputs": [
    {
     "name": "stdout",
     "output_type": "stream",
     "text": [
      "Please enter ('a') to add or enter ('s') to show or enter ('q') to quit or ('r') to remove: a\n",
      "Please enter what item you would like: apple\n",
      "Please enter ('a') to add or enter ('s') to show or enter ('q') to quit or ('r') to remove: a\n",
      "Please enter what item you would like: grape\n",
      "Please enter ('a') to add or enter ('s') to show or enter ('q') to quit or ('r') to remove: a\n",
      "Please enter what item you would like: bannana\n",
      "Please enter ('a') to add or enter ('s') to show or enter ('q') to quit or ('r') to remove: s\n",
      "['apple', 'grape', 'bannana']\n",
      "Please enter ('a') to add or enter ('s') to show or enter ('q') to quit or ('r') to remove: r\n",
      "Please enter what item you want removed: apple\n",
      "Please enter ('a') to add or enter ('s') to show or enter ('q') to quit or ('r') to remove: s\n",
      "['grape', 'bannana', None]\n",
      "Please enter ('a') to add or enter ('s') to show or enter ('q') to quit or ('r') to remove: q\n"
     ]
    },
    {
     "data": {
      "text/plain": [
       "['grape', 'bannana', None]"
      ]
     },
     "execution_count": 32,
     "metadata": {},
     "output_type": "execute_result"
    }
   ],
   "source": [
    "from IPython.display import clear_output\n",
    "\n",
    "# Ask the user four bits of input: Do you want to : Show/Add/Delete or Quit?\n",
    "# (Please enter 'delete' followed by the 'item' name if you wish to delete)\"\n",
    "\n",
    "# def groccery():\n",
    "#     shoppingcart = {}\n",
    "#     while True:\n",
    "#         Cart = input(\"Please enter what item you wish to add to your shopping cart (Please enter 'q' to exit out) or (Please enter 'm' to remove the item): \")\n",
    "#         Num = input(\"Please enter how many you would like (Please enter 'q' to exit out) (Please enter 'm' to remove the item): \")\n",
    "#         if Cart.lower() == 'q' or Num.lower() == 'q': # taking into account edge cases\n",
    "#             for key, value in shoppingcart.items(): # adding the items as a dictionary \n",
    "#                 print(f'Your cart: {key}, {value}')\n",
    "#             break\n",
    "#         shoppingcart[Cart] = Num\n",
    "#           if Cart.lower() == 'm' or Num.lower() == 'm': # taking into account edge cases for removal\n",
    "#               Out = input(\"Please enter what you want removed (Or please enter 'c' to go back to adding more items): \") \n",
    "#               for key, value in shoppingcart.items():\n",
    "#                   del shoppingcart[Out]\n",
    "# groccery()\n",
    "#   I'm sorry but I give up, can't think headache\n",
    "\n",
    "        \n",
    "        \n",
    "# Doing it with a list\n",
    "def list():\n",
    "    cart = []\n",
    "    while True:\n",
    "        item = input(\"Please enter ('a') to add or enter ('s') to show or enter ('q') to quit or ('r') to remove: \")\n",
    "        if item == 'a':\n",
    "            whatyouwant = input(\"Please enter what item you would like: \" )\n",
    "            cart.append(whatyouwant)\n",
    "        elif item == 'r' or whatyouwant == \"r\":\n",
    "            remove = input(\"Please enter what item you want removed: \")\n",
    "            x = cart.remove(remove)\n",
    "            cart.append(x)\n",
    "        elif item == 's':\n",
    "            print(cart)\n",
    "        elif item == 'q' or whatyouwant == 'q':\n",
    "            return cart\n",
    "list()\n",
    "\n",
    "# user input --> stores in dictionary --> add items --> store into empty dictionary --> print the new dictionary \n",
    "# --> if user input is \"q\" --> break \n",
    "# --> if user input is \"m\" --> remove stated key and value from dictionary --> return to user input for 'q' or 'm'  "
   ]
  },
  {
   "cell_type": "markdown",
   "metadata": {},
   "source": [
    "### 2) Create a Module in VS Code and Import It into jupyter notebook <br>\n",
    "<p><b>Module should have the following capabilities:</b><br><br>\n",
    "1) Has a function to calculate the square footage of a house <br>\n",
    "    <b>Reminder of Formula: Length X Width == Area<br>\n",
    "        <hr>\n",
    "2) Has a function to calculate the circumference of a circle <br><br>\n",
    "<b>Program in Jupyter Notebook should take in user input and use imported functions to calculate a circle's circumference or a houses square footage</b>\n",
    "</p>"
   ]
  },
  {
   "cell_type": "code",
   "execution_count": 26,
   "metadata": {},
   "outputs": [
    {
     "name": "stdout",
     "output_type": "stream",
     "text": [
      "The area of your house is: 100\n",
      "The circumfrence of the circle is: 31.415926535\n"
     ]
    }
   ],
   "source": [
    "import area\n",
    "\n",
    "area.HouseArea(10, 10)\n",
    "\n",
    "area.PieC(5)"
   ]
  },
  {
   "cell_type": "code",
   "execution_count": null,
   "metadata": {},
   "outputs": [],
   "source": []
  }
 ],
 "metadata": {
  "kernelspec": {
   "display_name": "Python 3",
   "language": "python",
   "name": "python3"
  },
  "language_info": {
   "codemirror_mode": {
    "name": "ipython",
    "version": 3
   },
   "file_extension": ".py",
   "mimetype": "text/x-python",
   "name": "python",
   "nbconvert_exporter": "python",
   "pygments_lexer": "ipython3",
   "version": "3.9.5"
  }
 },
 "nbformat": 4,
 "nbformat_minor": 2
}
